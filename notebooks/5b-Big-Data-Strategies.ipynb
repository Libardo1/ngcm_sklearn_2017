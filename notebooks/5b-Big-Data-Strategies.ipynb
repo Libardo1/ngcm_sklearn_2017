{
 "cells": [
  {
   "cell_type": "markdown",
   "metadata": {},
   "source": [
    "# Big Data Strategies"
   ]
  },
  {
   "cell_type": "markdown",
   "metadata": {},
   "source": [
    "Often, you'll want to take advantage of more computing power or you may have data that either has too many features or too many samples (or too many of both) to fit in memory.\n",
    "\n",
    "Scikit-learn provides a few options for these cases."
   ]
  },
  {
   "cell_type": "markdown",
   "metadata": {},
   "source": [
    "## Streaming Instances"
   ]
  },
  {
   "cell_type": "markdown",
   "metadata": {},
   "source": [
    "Many of the scikit-learn estimators provide a `fit_partial` method. You can read samples in to memory one-at-a-time or in batches."
   ]
  },
  {
   "cell_type": "markdown",
   "metadata": {},
   "source": [
    "## Feature Extraction"
   ]
  },
  {
   "cell_type": "markdown",
   "metadata": {},
   "source": [
    "When the set of features is not known in advance, for example, when working with text data, you might try to extract them by making a full pass over the data. If this isn't feasible, you might try turning to the `hashing trick`."
   ]
  },
  {
   "cell_type": "markdown",
   "metadata": {},
   "source": [
    "### Aside: Hash Functions "
   ]
  },
  {
   "cell_type": "markdown",
   "metadata": {},
   "source": [
    "A hash function maps from an arbitrary size to a fixed size."
   ]
  },
  {
   "cell_type": "code",
   "execution_count": 8,
   "metadata": {},
   "outputs": [
    {
     "data": {
      "image/svg+xml": [
       "<svg fill-opacity=\"1\" fill-rule=\"evenodd\" font-family=\"Bitstream Courier\" font-style=\"normal\" font-weight=\"normal\" height=\"270.0\" id=\"fig\" pagecolor=\"#ffff00\" pageopacity=\"0.0\" stroke-linecap=\"round\" stroke-linejoin=\"round\" stroke-opacity=\"1\" stroke-width=\"1px\" width=\"300.0\" xmlns=\"http://www.w3.org/2000/svg\" xmlns:xlink=\"http://www.w3.org/1999/xlink\">\n",
       "\n",
       "\n",
       "  <g font-size=\"12px\" transform=\"scale(1.0) translate(10,60)\">\n",
       "\n",
       "  <defs>\n",
       "    <!-- Start marker for non-null pointers: -->\n",
       "    <marker id=\"linkdot_N\" markerHeight=\"8\" markerWidth=\"8\" orient=\"auto\" refX=\"4\" refY=\"4\" viewBox=\"0 0 8 8\">\n",
       "      <circle cx=\"4\" cy=\"4\" fill=\"#000000\" r=\"3\" stroke=\"#000000\"/>\n",
       "    </marker>\n",
       "    <!-- Start marker for null pointers: -->\n",
       "    <marker id=\"linkdot_U\" markerHeight=\"8\" markerWidth=\"8\" orient=\"auto\" refX=\"4\" refY=\"4\" viewBox=\"0 0 8 8\">\n",
       "      <line stroke=\"#000000\" x1=\"1\" x2=\"7\" y1=\"1\" y2=\"7\"/>\n",
       "      <line stroke=\"#000000\" x1=\"1\" x2=\"7\" y1=\"7\" y2=\"1\"/>\n",
       "    </marker>\n",
       "\n",
       "    <!-- Tip for arrows: -->\n",
       "    <marker id=\"arrowtip_N\" markerHeight=\"8\" markerWidth=\"14\" orient=\"auto\" refX=\"13\" refY=\"4\" viewBox=\"0 0 14 8\">\n",
       "      <polygon fill=\"#000000\" points=\"1,4  1,1  13,4  1,7\" stroke=\"#000000\"/>\n",
       "    </marker>\n",
       "    <!-- Tip for highlighted arrows: -->\n",
       "    <marker id=\"arrowtip_C\" markerHeight=\"8\" markerWidth=\"14\" orient=\"auto\" refX=\"13\" refY=\"4\" viewBox=\"0 0 14 8\">\n",
       "      <polygon fill=\"#cc0000\" points=\"1,4  1,1  13,4  1,7\" stroke=\"#cc0000\"/>\n",
       "    </marker>\n",
       "\n",
       "    <!-- Key box in input column, normal: -->\n",
       "    <rect fill=\"#00ffff\" height=\"20\" id=\"key_box_N\" stroke=\"none\" stroke-width=\"0px\" width=\"90\" x=\"0\" y=\"0\"/>\n",
       "    <!-- Key box in input column, highlighted : -->\n",
       "    <rect fill=\"#00ffff\" height=\"20\" id=\"key_box_C\" stroke=\"none\" stroke-width=\"0px\" width=\"90\" x=\"0\" y=\"0\"/>\n",
       "    <!-- Key box in bucket or overflow columns, normal: -->\n",
       "    <rect fill=\"#9cff9c\" height=\"20\" id=\"key_box_E\" stroke=\"#000000\" width=\"90\" x=\"0\" y=\"0\"/>\n",
       "    <!-- Key box in bucket or overflow columns, vacant: -->\n",
       "    <rect fill=\"#ddeedd\" height=\"20\" id=\"key_box_U\" stroke=\"#000000\" width=\"90\" x=\"0\" y=\"0\"/>\n",
       "\n",
       "    <!-- Value box in bucket or overflow columns, occupied: -->\n",
       "    <rect fill=\"#9cff9c\" height=\"20\" id=\"val_box_E\" stroke=\"#000000\" width=\"80\" x=\"0\" y=\"0\"/>\n",
       "    <!-- Value box in bucket or overflow columns, vacant: -->\n",
       "    <rect fill=\"#ddeedd\" height=\"20\" id=\"val_box_U\" stroke=\"#000000\" width=\"80\" x=\"0\" y=\"0\"/>\n",
       "\n",
       "    <!-- Pointer box in bucket or overflow columns, used and non-null: -->\n",
       "    <rect fill=\"#9cff9c\" height=\"20\" id=\"ptr_box_E\" stroke=\"#000000\" width=\"20\" x=\"0\" y=\"0\"/>\n",
       "    <!-- Pointer box in bucket or overflow columns, null/vacant: -->\n",
       "    <rect fill=\"#ddeedd\" height=\"20\" id=\"ptr_box_U\" stroke=\"#000000\" width=\"20\" x=\"0\" y=\"0\"/>\n",
       "\n",
       "    <!-- Background for hash value, unused: -->\n",
       "    <rect fill=\"#ddeedd\" height=\"18\" id=\"hsh_box_U\" stroke=\"none\" stroke-width=\"0px\" width=\"24\" x=\"3\" y=\"1\"/>\n",
       "    <!-- Background for hash value, used: -->\n",
       "    <rect fill=\"#a8a8ff\" height=\"18\" id=\"hsh_box_N\" stroke=\"none\" stroke-width=\"0px\" width=\"24\" x=\"3\" y=\"1\"/>\n",
       "    <!-- Background for hash value, highlighted: -->\n",
       "    <rect fill=\"#ee4444\" height=\"18\" id=\"hsh_box_C\" stroke=\"none\" stroke-width=\"0px\" width=\"24\" x=\"3\" y=\"1\"/>\n",
       "\n",
       "    <!-- Vertical dots: -->\n",
       "    <g id=\"vdots\">\n",
       "      <rect height=\"2\" width=\"2\" x=\"0\" y=\"06\"/>\n",
       "      <rect height=\"2\" width=\"2\" x=\"0\" y=\"12\"/>\n",
       "    </g>\n",
       " </defs>\n",
       "\n",
       "    <!-- Keys and hash function -->\n",
       "    <g text-anchor=\"middle\" transform=\"translate(0,000)\">\n",
       "\n",
       "      <text fill=\"#000000\" font-size=\"15px\" font-weight=\"bold\" stroke=\"none\" stroke-width=\"0px\" x=\"140\" y=\"-30\"> hash  </text>\n",
       "      <text fill=\"#000000\" font-size=\"15px\" font-weight=\"bold\" stroke=\"none\" stroke-width=\"0px\" x=\"140\" y=\"-10\"> function </text>\n",
       "\n",
       "      <rect fill=\"#aaeecc\" height=\"200\" stroke=\"none\" stroke-width=\"0px\" width=\"70\" x=\"105\" y=\"0\"/>\n",
       "\n",
       "      <text fill=\"#000000\" font-size=\"15px\" font-weight=\"bold\" stroke=\"none\" stroke-width=\"0px\" x=\"45\" y=\"-10\"> keys\n",
       " </text>\n",
       "\n",
       "      <g transform=\"translate(0,30)\">\n",
       "        <use xlink:href=\"#key_box_N\"/>\n",
       "        <text stroke=\"none\" stroke-width=\"0px\" x=\"45\" y=\"14\">John Smith</text>\n",
       "        <line stroke=\"#000000\" x1=\"97\" x2=\"110\" y1=\"10\" y2=\"10\"/>\n",
       "        <line stroke=\"#000000\" x1=\"110\" x2=\"170\" y1=\"10\" y2=\"20\"/>\n",
       "        <line marker-end=\"url(#arrowtip_N)\" stroke=\"#000000\" x1=\"170\" x2=\"210\" y1=\"20\" y2=\"20\"/>\n",
       "      </g>\n",
       "      <g transform=\"translate(0,70)\">\n",
       "        <use xlink:href=\"#key_box_N\"/>\n",
       "        <text stroke=\"none\" stroke-width=\"0px\" x=\"45\" y=\"14\">Lisa Smith</text>\n",
       "        <line stroke=\"#000000\" x1=\"97\" x2=\"110\" y1=\"10\" y2=\"10\"/>\n",
       "        <line stroke=\"#000000\" x1=\"110\" x2=\"170\" y1=\"10\" y2=\"-40\"/>\n",
       "        <line marker-end=\"url(#arrowtip_N)\" stroke=\"#000000\" x1=\"170\" x2=\"210\" y1=\"-40\" y2=\"-40\"/>\n",
       "      </g>\n",
       "      <g transform=\"translate(0,110)\">\n",
       "        <use xlink:href=\"#key_box_N\"/>\n",
       "        <text stroke=\"none\" stroke-width=\"0px\" x=\"45\" y=\"14\">Sam Doe</text>\n",
       "        <line stroke=\"#000000\" x1=\"97\" x2=\"110\" y1=\"10\" y2=\"10\"/>\n",
       "        <line stroke=\"#000000\" x1=\"110\" x2=\"170\" y1=\"10\" y2=\"-20\"/>\n",
       "        <line marker-end=\"url(#arrowtip_N)\" stroke=\"#000000\" x1=\"170\" x2=\"210\" y1=\"-20\" y2=\"-20\"/>\n",
       "      </g>\n",
       "      <g transform=\"translate(0,150)\">\n",
       "        <use xlink:href=\"#key_box_N\"/>\n",
       "        <text stroke=\"none\" stroke-width=\"0px\" x=\"45\" y=\"14\">Sandra Dee</text>\n",
       "        <line stroke=\"#000000\" x1=\"97\" x2=\"110\" y1=\"10\" y2=\"10\"/>\n",
       "        <line stroke=\"#000000\" x1=\"110\" x2=\"170\" y1=\"10\" y2=\"20\"/>\n",
       "        <line marker-end=\"url(#arrowtip_N)\" stroke=\"#000000\" x1=\"170\" x2=\"210\" y1=\"20\" y2=\"20\"/>\n",
       "      </g>\n",
       "\n",
       "    </g>\n",
       "\n",
       "    <!-- Hash values and bucket array -->\n",
       "    <g text-anchor=\"middle\" transform=\"translate(210,000)\">\n",
       "\n",
       "      <text fill=\"#000000\" font-size=\"15px\" font-weight=\"bold\" stroke=\"none\" stroke-width=\"0px\" x=\"15\" y=\"-10\">\n",
       " hashes\n",
       " </text>\n",
       "\n",
       "      <g transform=\"translate(000,0)\">\n",
       "        <use x=\"0\" xlink:href=\"#hsh_box_U\"/>\n",
       "        <text x=\"15\" y=\"14\">00</text>\n",
       "      </g>\n",
       "      <g transform=\"translate(000,20)\">\n",
       "        <use x=\"0\" xlink:href=\"#hsh_box_N\"/>\n",
       "        <text x=\"15\" y=\"14\">01</text>\n",
       "      </g>\n",
       "      <g transform=\"translate(000,40)\">\n",
       "        <use x=\"0\" xlink:href=\"#hsh_box_N\"/>\n",
       "        <text x=\"15\" y=\"14\">02</text>\n",
       "      </g>\n",
       "      <g transform=\"translate(000,60)\">\n",
       "        <use x=\"0\" xlink:href=\"#hsh_box_U\"/>\n",
       "        <text x=\"15\" y=\"14\">03</text>\n",
       "      </g>\n",
       "      <g transform=\"translate(000,80)\">\n",
       "        <use x=\"0\" xlink:href=\"#hsh_box_N\"/>\n",
       "        <text x=\"15\" y=\"14\">04</text>\n",
       "      </g>\n",
       "      <g transform=\"translate(000,100)\">\n",
       "        <use x=\"0\" xlink:href=\"#hsh_box_U\"/>\n",
       "        <text x=\"15\" y=\"14\">05</text>\n",
       "      </g>\n",
       "      <g transform=\"translate(000,120)\">\n",
       "        <text font-weight=\"bold\" x=\"15\" y=\"14\">:</text>\n",
       "      </g>\n",
       "      <g transform=\"translate(000,140)\">\n",
       "        <use x=\"0\" xlink:href=\"#hsh_box_U\"/>\n",
       "        <text x=\"15\" y=\"14\">13</text>\n",
       "      </g>\n",
       "      <g transform=\"translate(000,160)\">\n",
       "        <use x=\"0\" xlink:href=\"#hsh_box_N\"/>\n",
       "        <text x=\"15\" y=\"14\">14</text>\n",
       "      </g>\n",
       "      <g transform=\"translate(000,180)\">\n",
       "        <use x=\"0\" xlink:href=\"#hsh_box_U\"/>\n",
       "        <text x=\"15\" y=\"14\">15</text>\n",
       "      </g>\n",
       "\n",
       "    </g>\n",
       "\n",
       "\n",
       "  </g>\n",
       "</svg>"
      ],
      "text/plain": [
       "<IPython.core.display.SVG object>"
      ]
     },
     "execution_count": 8,
     "metadata": {},
     "output_type": "execute_result"
    }
   ],
   "source": [
    "from IPython.display import SVG\n",
    "SVG(\"https://upload.wikimedia.org/wikipedia/commons/7/71/Hash_table_4_1_1_0_0_0_0_LL.svg\")"
   ]
  },
  {
   "cell_type": "markdown",
   "metadata": {},
   "source": [
    "Python has a built-in function for this called `hash`. (You will **not** see the same numbers. Hashing in recent versions of Python is randomized for security.)"
   ]
  },
  {
   "cell_type": "code",
   "execution_count": 4,
   "metadata": {},
   "outputs": [
    {
     "data": {
      "text/plain": [
       "-8413618861345177091"
      ]
     },
     "execution_count": 4,
     "metadata": {},
     "output_type": "execute_result"
    }
   ],
   "source": [
    "hash('a')"
   ]
  },
  {
   "cell_type": "code",
   "execution_count": 2,
   "metadata": {},
   "outputs": [
    {
     "data": {
      "text/plain": [
       "-4752436646029469005"
      ]
     },
     "execution_count": 2,
     "metadata": {},
     "output_type": "execute_result"
    }
   ],
   "source": [
    "hash('cuckoo')"
   ]
  },
  {
   "cell_type": "code",
   "execution_count": 3,
   "metadata": {},
   "outputs": [
    {
     "data": {
      "text/plain": [
       "-4752436646029469005"
      ]
     },
     "execution_count": 3,
     "metadata": {},
     "output_type": "execute_result"
    }
   ],
   "source": [
    "hash('cuckoo')"
   ]
  },
  {
   "cell_type": "markdown",
   "metadata": {},
   "source": [
    "But, wait, if you're mapping to a fixed range won't you have *collisions*. In principle, yes. In practice, rarely. YMMV."
   ]
  },
  {
   "cell_type": "markdown",
   "metadata": {},
   "source": [
    "### Aside: Hash Tables\n",
    "\n",
    "Hash tables are a ubiquitous data structure when you start looking for them. The most ready example is a dictionary (or a set) in Python. This mapping data structure, formally an associative array, is often called a hash in other languages. The great thing about hash tables is that lookup and insertion is (almost always) $\\mathcal{O}(1)$\n",
    "\n",
    "This is why Python dictionary keys can't be mutable. You want the keys to always point to the same location over the life of the object."
   ]
  },
  {
   "cell_type": "code",
   "execution_count": 9,
   "metadata": {},
   "outputs": [
    {
     "data": {
      "image/svg+xml": [
       "<svg fill-opacity=\"1\" fill-rule=\"evenodd\" font-family=\"Bitstream Courier\" font-style=\"normal\" font-weight=\"normal\" height=\"230.0\" id=\"fig\" pagecolor=\"#ffff00\" pageopacity=\"0.0\" stroke-linecap=\"round\" stroke-linejoin=\"round\" stroke-opacity=\"1\" width=\"315.0\" xmlns=\"http://www.w3.org/2000/svg\" xmlns:xlink=\"http://www.w3.org/1999/xlink\">\n",
       "\n",
       "\n",
       "  <g font-size=\"12px\" transform=\"scale(1.0) translate(10,60)\">\n",
       "\n",
       "  <defs>\n",
       "    <!-- Start marker for non-null pointers: -->\n",
       "    <marker id=\"linkdot_N\" markerHeight=\"8\" markerWidth=\"8\" orient=\"auto\" refX=\"4\" refY=\"4\" viewBox=\"0 0 8 8\">\n",
       "      <circle cx=\"4\" cy=\"4\" fill=\"#000000\" r=\"3\" stroke=\"#000000\"/>\n",
       "    </marker>\n",
       "    <!-- Start marker for null pointers: -->\n",
       "    <marker id=\"linkdot_U\" markerHeight=\"8\" markerWidth=\"8\" orient=\"auto\" refX=\"4\" refY=\"4\" viewBox=\"0 0 8 8\">\n",
       "      <line stroke=\"#000000\" x1=\"1\" x2=\"7\" y1=\"1\" y2=\"7\"/>\n",
       "      <line stroke=\"#000000\" x1=\"1\" x2=\"7\" y1=\"7\" y2=\"1\"/>\n",
       "    </marker>\n",
       "\n",
       "    <!-- Tip for arrows: -->\n",
       "    <marker id=\"arrowtip_N\" markerHeight=\"8\" markerWidth=\"14\" orient=\"auto\" refX=\"13\" refY=\"4\" viewBox=\"0 0 14 8\">\n",
       "      <polygon fill=\"#000000\" points=\"1,4  1,1  13,4  1,7\" stroke=\"#000000\"/>\n",
       "    </marker>\n",
       "    <!-- Tip for highlighted arrows: -->\n",
       "    <marker id=\"arrowtip_C\" markerHeight=\"8\" markerWidth=\"14\" orient=\"auto\" refX=\"13\" refY=\"4\" viewBox=\"0 0 14 8\">\n",
       "      <polygon fill=\"#cc0000\" points=\"1,4  1,1  13,4  1,7\" stroke=\"#cc0000\"/>\n",
       "    </marker>\n",
       "\n",
       "    <!-- Key box in input column, normal: -->\n",
       "    <rect fill=\"#00ffff\" height=\"20\" id=\"key_box_N\" stroke=\"none\" width=\"90\" x=\"0\" y=\"0\"/>\n",
       "    <!-- Key box in input column, highlighted : -->\n",
       "    <rect fill=\"#00ffff\" height=\"20\" id=\"key_box_C\" stroke=\"none\" width=\"90\" x=\"0\" y=\"0\"/>\n",
       "    <!-- Key box in bucket or overflow columns, normal: -->\n",
       "    <rect fill=\"#9cff9c\" height=\"20\" id=\"key_box_E\" stroke=\"#000000\" width=\"90\" x=\"0\" y=\"0\"/>\n",
       "    <!-- Key box in bucket or overflow columns, vacant: -->\n",
       "    <rect fill=\"#ddeedd\" height=\"20\" id=\"key_box_U\" stroke=\"#000000\" width=\"90\" x=\"0\" y=\"0\"/>\n",
       "\n",
       "    <!-- Value box in bucket or overflow columns, occupied: -->\n",
       "    <rect fill=\"#9cff9c\" height=\"20\" id=\"val_box_E\" stroke=\"#000000\" width=\"80\" x=\"0\" y=\"0\"/>\n",
       "    <!-- Value box in bucket or overflow columns, vacant: -->\n",
       "    <rect fill=\"#ddeedd\" height=\"20\" id=\"val_box_U\" stroke=\"#000000\" width=\"80\" x=\"0\" y=\"0\"/>\n",
       "\n",
       "    <!-- Pointer box in bucket or overflow columns, used and non-null: -->\n",
       "    <rect fill=\"#9cff9c\" height=\"20\" id=\"ptr_box_E\" stroke=\"#000000\" width=\"20\" x=\"0\" y=\"0\"/>\n",
       "    <!-- Pointer box in bucket or overflow columns, null/vacant: -->\n",
       "    <rect fill=\"#ddeedd\" height=\"20\" id=\"ptr_box_U\" stroke=\"#000000\" width=\"20\" x=\"0\" y=\"0\"/>\n",
       "\n",
       "    <!-- Background for hash value, unused: -->\n",
       "    <rect fill=\"#ddeedd\" height=\"18\" id=\"hsh_box_U\" stroke=\"none\" width=\"24\" x=\"3\" y=\"1\"/>\n",
       "    <!-- Background for hash value, used: -->\n",
       "    <rect fill=\"#a8a8ff\" height=\"18\" id=\"hsh_box_N\" stroke=\"none\" width=\"24\" x=\"3\" y=\"1\"/>\n",
       "    <!-- Background for hash value, highlighted: -->\n",
       "    <rect fill=\"#ee4444\" height=\"18\" id=\"hsh_box_C\" stroke=\"none\" width=\"24\" x=\"3\" y=\"1\"/>\n",
       "\n",
       "    <!-- Vertical dots: -->\n",
       "    <g id=\"vdots\">\n",
       "      <rect height=\"2\" width=\"2\" x=\"0\" y=\"06\"/>\n",
       "      <rect height=\"2\" width=\"2\" x=\"0\" y=\"12\"/>\n",
       "    </g>\n",
       " </defs>\n",
       "\n",
       "    <!-- Keys and hash function -->\n",
       "    <g stroke=\"none\" text-anchor=\"middle\" transform=\"translate(0,000)\">\n",
       "\n",
       "      <text fill=\"#000000\" font-size=\"15px\" font-weight=\"bold\" stroke=\"none\" x=\"130\" y=\"-30\"> hash  </text>\n",
       "      <text fill=\"#000000\" font-size=\"15px\" font-weight=\"bold\" stroke=\"none\" x=\"130\" y=\"-10\"> function </text>\n",
       "\n",
       "      <rect fill=\"#aaeecc\" height=\"160\" stroke=\"none\" width=\"60\" x=\"100\" y=\"0\"/>\n",
       "\n",
       "      <text fill=\"#000000\" font-size=\"15px\" font-weight=\"bold\" stroke=\"none\" x=\"45\" y=\"-10\"> keys\n",
       " </text>\n",
       "\n",
       "      <g transform=\"translate(0,30)\">\n",
       "        <use xlink:href=\"#key_box_N\"/>\n",
       "        <text stroke=\"none\" x=\"45\" y=\"14\">John Smith</text>\n",
       "        <line stroke=\"#000000\" x1=\"95\" x2=\"105\" y1=\"10\" y2=\"10\"/>\n",
       "        <line stroke=\"#000000\" x1=\"105\" x2=\"155\" y1=\"10\" y2=\"20\"/>\n",
       "        <line marker-end=\"url(#arrowtip_N)\" stroke=\"#000000\" x1=\"155\" x2=\"180\" y1=\"20\" y2=\"20\"/>\n",
       "      </g>\n",
       "      <g transform=\"translate(0,70)\">\n",
       "        <use xlink:href=\"#key_box_N\"/>\n",
       "        <text stroke=\"none\" x=\"45\" y=\"14\">Lisa Smith</text>\n",
       "        <line stroke=\"#000000\" x1=\"95\" x2=\"105\" y1=\"10\" y2=\"10\"/>\n",
       "        <line stroke=\"#000000\" x1=\"105\" x2=\"155\" y1=\"10\" y2=\"-40\"/>\n",
       "        <line marker-end=\"url(#arrowtip_N)\" stroke=\"#000000\" x1=\"155\" x2=\"180\" y1=\"-40\" y2=\"-40\"/>\n",
       "      </g>\n",
       "      <g transform=\"translate(0,110)\">\n",
       "        <use xlink:href=\"#key_box_N\"/>\n",
       "        <text stroke=\"none\" x=\"45\" y=\"14\">Sandra Dee</text>\n",
       "        <line stroke=\"#000000\" x1=\"95\" x2=\"105\" y1=\"10\" y2=\"10\"/>\n",
       "        <line stroke=\"#000000\" x1=\"105\" x2=\"155\" y1=\"10\" y2=\"20\"/>\n",
       "        <line marker-end=\"url(#arrowtip_N)\" stroke=\"#000000\" x1=\"155\" x2=\"180\" y1=\"20\" y2=\"20\"/>\n",
       "      </g>\n",
       "\n",
       "    </g>\n",
       "\n",
       "    <!-- Hash values and bucket array -->\n",
       "    <g stroke=\"none\" text-anchor=\"middle\" transform=\"translate(180,000)\">\n",
       "\n",
       "      <text fill=\"#000000\" font-size=\"15px\" font-weight=\"bold\" stroke=\"none\" x=\"70\" y=\"-10\">\n",
       " buckets\n",
       " </text>\n",
       "\n",
       "      <g transform=\"translate(000,0)\">\n",
       "        <use x=\"0\" xlink:href=\"#hsh_box_U\"/>\n",
       "        <text x=\"15\" y=\"14\">00</text>\n",
       "        <use x=\"30\" xlink:href=\"#val_box_U\"/>\n",
       "      </g>\n",
       "      <g transform=\"translate(000,20)\">\n",
       "        <use x=\"0\" xlink:href=\"#hsh_box_N\"/>\n",
       "        <text x=\"15\" y=\"14\">01</text>\n",
       "        <use x=\"30\" xlink:href=\"#val_box_E\"/>\n",
       "        <text x=\"70\" y=\"14\">521-8976</text>\n",
       "      </g>\n",
       "      <g transform=\"translate(000,40)\">\n",
       "        <use x=\"0\" xlink:href=\"#hsh_box_N\"/>\n",
       "        <text x=\"15\" y=\"14\">02</text>\n",
       "        <use x=\"30\" xlink:href=\"#val_box_E\"/>\n",
       "        <text x=\"70\" y=\"14\">521-1234</text>\n",
       "      </g>\n",
       "      <g transform=\"translate(000,60)\">\n",
       "        <use x=\"0\" xlink:href=\"#hsh_box_U\"/>\n",
       "        <text x=\"15\" y=\"14\">03</text>\n",
       "        <use x=\"30\" xlink:href=\"#val_box_U\"/>\n",
       "      </g>\n",
       "      <g transform=\"translate(000,80)\">\n",
       "        <text font-weight=\"bold\" x=\"15\" y=\"14\">:</text>\n",
       "        <text font-weight=\"bold\" x=\"70\" y=\"14\">:</text>\n",
       "      </g>\n",
       "      <g transform=\"translate(000,100)\">\n",
       "        <use x=\"0\" xlink:href=\"#hsh_box_U\"/>\n",
       "        <text x=\"15\" y=\"14\">13</text>\n",
       "        <use x=\"30\" xlink:href=\"#val_box_U\"/>\n",
       "      </g>\n",
       "      <g transform=\"translate(000,120)\">\n",
       "        <use x=\"0\" xlink:href=\"#hsh_box_N\"/>\n",
       "        <text x=\"15\" y=\"14\">14</text>\n",
       "        <use x=\"30\" xlink:href=\"#val_box_E\"/>\n",
       "        <text x=\"70\" y=\"14\">521-9655</text>\n",
       "      </g>\n",
       "      <g transform=\"translate(000,140)\">\n",
       "        <use x=\"0\" xlink:href=\"#hsh_box_U\"/>\n",
       "        <text x=\"15\" y=\"14\">15</text>\n",
       "        <use x=\"30\" xlink:href=\"#val_box_U\"/>\n",
       "      </g>\n",
       "\n",
       "    </g>\n",
       "\n",
       "\n",
       "  </g>\n",
       "</svg>"
      ],
      "text/plain": [
       "<IPython.core.display.SVG object>"
      ]
     },
     "execution_count": 9,
     "metadata": {},
     "output_type": "execute_result"
    }
   ],
   "source": [
    "SVG(\"https://upload.wikimedia.org/wikipedia/commons/7/7d/Hash_table_3_1_1_0_1_0_0_SP.svg\")"
   ]
  },
  {
   "cell_type": "markdown",
   "metadata": {},
   "source": [
    "How can we take advantage of this for machine learning? Well, for one thing, you've been taking advantage of hash tables all along. This is precisely what the feature vectorizers we have been using are doing. Scikit-learn also provides a few, convenient objects for taking advange of hashing.\n",
    "\n",
    "`FeatureHasher` applies a function to find the column index of a feature directly."
   ]
  },
  {
   "cell_type": "code",
   "execution_count": 14,
   "metadata": {},
   "outputs": [
    {
     "data": {
      "text/plain": [
       "<3x1048576 sparse matrix of type '<class 'numpy.float64'>'\n",
       "\twith 8 stored elements in Compressed Sparse Row format>"
      ]
     },
     "execution_count": 14,
     "metadata": {},
     "output_type": "execute_result"
    }
   ],
   "source": [
    "from sklearn.feature_extraction import FeatureHasher\n",
    "\n",
    "hasher = FeatureHasher(input_type='string')\n",
    "\n",
    "hasher.transform([\n",
    "    ['a', 'simple', 'man'],\n",
    "    ['pulp', 'fiction'],\n",
    "    ['pride', '&', 'prejudice']\n",
    "])"
   ]
  },
  {
   "cell_type": "markdown",
   "metadata": {},
   "source": [
    "`HashingVectorizer` is particularly convenient for working with documents."
   ]
  },
  {
   "cell_type": "code",
   "execution_count": 28,
   "metadata": {},
   "outputs": [
    {
     "data": {
      "text/plain": [
       "array([[ 0.57735027,  0.        ,  0.        ,  0.        ,  0.        ,\n",
       "        -0.57735027,  0.        ,  0.57735027,  0.        ,  0.        ,\n",
       "         0.        ,  0.        ],\n",
       "       [ 0.4472136 ,  0.        ,  0.        ,  0.        , -0.89442719,\n",
       "         0.        ,  0.        ,  0.        ,  0.        ,  0.        ,\n",
       "         0.        ,  0.        ],\n",
       "       [ 0.57735027,  0.        ,  0.57735027,  0.        ,  0.        ,\n",
       "         0.        ,  0.        ,  0.        ,  0.        ,  0.        ,\n",
       "         0.        , -0.57735027],\n",
       "       [ 0.        ,  0.        ,  0.        ,  0.57735027, -0.57735027,\n",
       "         0.        ,  0.        ,  0.        , -0.57735027,  0.        ,\n",
       "         0.        ,  0.        ]])"
      ]
     },
     "execution_count": 28,
     "metadata": {},
     "output_type": "execute_result"
    }
   ],
   "source": [
    "from sklearn.feature_extraction.text import HashingVectorizer\n",
    "\n",
    "hash_vect = HashingVectorizer(n_features=12, stop_words=['a', 'the'])\n",
    "\n",
    "hash_vect.transform([\n",
    "    'The Lion King (1994)',\n",
    "    'Pulp Fiction (1994)',\n",
    "    'A Simple Man (2013)',\n",
    "    'Pride & Prejudice (2005))'\n",
    "]).A"
   ]
  },
  {
   "cell_type": "code",
   "execution_count": 29,
   "metadata": {},
   "outputs": [
    {
     "data": {
      "text/plain": [
       "array([[ 1.,  0.,  0.,  0.,  0.,  0.,  0.,  0.,  0.,  0.,  0.,  0.]])"
      ]
     },
     "execution_count": 29,
     "metadata": {},
     "output_type": "execute_result"
    }
   ],
   "source": [
    "hash_vect.transform(['(1994)']).A"
   ]
  },
  {
   "cell_type": "markdown",
   "metadata": {},
   "source": [
    "## Out-of-core Learning"
   ]
  },
  {
   "cell_type": "markdown",
   "metadata": {},
   "source": []
  },
  {
   "cell_type": "markdown",
   "metadata": {
    "collapsed": true
   },
   "source": [
    "## Parallelism\n",
    "\n",
    "When doing a large grid-search, or running a learning algorithm, like RandomForest, which lends itself to being fit in parallel, you may want to take advantage of \n",
    "\n",
    "scikit-learn provides a few options for scaling up your code to take advantage of one or more machines."
   ]
  },
  {
   "cell_type": "code",
   "execution_count": 1,
   "metadata": {},
   "outputs": [
    {
     "data": {
      "text/plain": [
       "4"
      ]
     },
     "execution_count": 1,
     "metadata": {},
     "output_type": "execute_result"
    }
   ],
   "source": [
    "from multiprocessing import cpu_count\n",
    "cpu_count()"
   ]
  },
  {
   "cell_type": "code",
   "execution_count": null,
   "metadata": {
    "collapsed": true
   },
   "outputs": [],
   "source": [
    "from sklearn.ensemble import RandomForestClassifier"
   ]
  },
  {
   "cell_type": "code",
   "execution_count": null,
   "metadata": {
    "collapsed": true
   },
   "outputs": [],
   "source": []
  }
 ],
 "metadata": {
  "kernelspec": {
   "display_name": "Python 3",
   "language": "python",
   "name": "python3"
  },
  "language_info": {
   "codemirror_mode": {
    "name": "ipython",
    "version": 3
   },
   "file_extension": ".py",
   "mimetype": "text/x-python",
   "name": "python",
   "nbconvert_exporter": "python",
   "pygments_lexer": "ipython3",
   "version": "3.6.1"
  }
 },
 "nbformat": 4,
 "nbformat_minor": 2
}
