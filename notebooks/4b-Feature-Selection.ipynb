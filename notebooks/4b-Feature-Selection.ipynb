{
 "cells": [
  {
   "cell_type": "markdown",
   "metadata": {
    "collapsed": true
   },
   "source": [
    "# Feature Selection\n",
    "\n",
    "Feature selection is another set of techniques to take advantage of to either boost a model's performance, improve accuracy, or reduce the dimensionality of a high dimensionality data set.\n",
    "\n",
    "We have already seen a few of these techniques like PCA or regularization. Scikit-learn provides a few conveniences around these techniques and others for selecting features that matter in [`sklearn.feature_selection`](http://scikit-learn.org/stable/modules/classes.html#module-sklearn.feature_selection)."
   ]
  },
  {
   "cell_type": "markdown",
   "metadata": {},
   "source": [
    "## Removing Features with Low Variance\n",
    "\n",
    "By default, `VarianceThreshold` removes all features that do not have any variance within a sample. This is settable."
   ]
  },
  {
   "cell_type": "code",
   "execution_count": 1,
   "metadata": {},
   "outputs": [
    {
     "data": {
      "text/plain": [
       "array([[0, 1],\n",
       "       [1, 0],\n",
       "       [0, 0],\n",
       "       [1, 1],\n",
       "       [1, 0],\n",
       "       [1, 1]])"
      ]
     },
     "execution_count": 1,
     "metadata": {},
     "output_type": "execute_result"
    }
   ],
   "source": [
    "from sklearn.feature_selection import VarianceThreshold\n",
    "\n",
    "X = [\n",
    "    [0, 0, 1],\n",
    "    [0, 1, 0],\n",
    "    [1, 0, 0],\n",
    "    [0, 1, 1],\n",
    "    [0, 1, 0],\n",
    "    [0, 1, 1]\n",
    "]\n",
    "\n",
    "minimum_variance = .8 * (1 - .8)\n",
    "sel = VarianceThreshold(threshold=minimum_variance)\n",
    "sel.fit_transform(X)"
   ]
  },
  {
   "cell_type": "markdown",
   "metadata": {},
   "source": [
    "## Univariate Feature Selection "
   ]
  },
  {
   "cell_type": "markdown",
   "metadata": {},
   "source": [
    "There are a few Transformers that select featured based on univariate statistical test.\n",
    "\n",
    "The first is [`SelectKBest`](http://scikit-learn.org/stable/modules/generated/sklearn.feature_selection.SelectKBest.html#sklearn.feature_selection.SelectKBest), which removes all but the $k$ highest scoring features. This is an implementation of what Jeff Leek light-heartedly calls the [Leekasso](https://simplystatistics.org/2012/02/23/prediction-the-lasso-vs-just-using-the-top-10/), if and only if k is 10, in the case of $n << p$. In some simulations he's put on his blog over the years, this estimator outperforms the lasso.\n",
    "\n",
    "[`SelectPercentile`](http://scikit-learn.org/stable/modules/generated/sklearn.feature_selection.SelectPercentile.html#sklearn.feature_selection.SelectPercentile) is a similar function that selects based on percentiles vs. $k$.\n",
    "\n",
    "There are a number of approaches that select features while controlling for the vagaries of multiple comparisons. You can conceptualize the multiple comparisons problem like this. If we were to test 10,000 features with a fixed p-value of .05, then just *by chance*, we'd expect 500 features to be significant. These methods adjust for multiple comparisons to avoid making Type I error of rejecting the null when it's true (i.e., a false hit). These are \n",
    "\n",
    "* [`SelectFpr`](http://scikit-learn.org/stable/modules/generated/sklearn.feature_selection.SelectFpr.html#sklearn.feature_selection.SelectFpr). This selects features based on a p-value threshold adjusted by controlling for the false positive rate (FPR). This controls for probability of rejecting the null when its true. This is mathematically equivalent to the Type I error rate.\n",
    "* [`SelectFdr`](http://scikit-learn.org/stable/modules/generated/sklearn.feature_selection.SelectFdr.html#sklearn.feature_selection.SelectFdr). This selected features based on a p-value adjusted to control for the false discovery rate (FDR). The False Discovery rate is the expected proportion of Type I errors among the rejected hypotheses.\n",
    "* [`SelectFwe`](http://scikit-learn.org/stable/modules/generated/sklearn.feature_selection.SelectFwe.html#sklearn.feature_selection.SelectFwe). This selects features based on a p-value threshold controlling for the family-wise error rate. This controls for the probability of at least one Type I error. Useful when you want to guard against making any false positives."
   ]
  },
  {
   "cell_type": "markdown",
   "metadata": {},
   "source": [
    "## Recursive Feature Selection "
   ]
  },
  {
   "cell_type": "markdown",
   "metadata": {},
   "source": [
    "This is a technique by which features are eliminated in parametric models based on their weight. Those below a certain threshold are eliminated. The procedues is then performed again and again until the desired number of features is found.\n",
    "\n",
    "This is available in [`sklearn.feature_selection.RFE`](http://scikit-learn.org/stable/modules/generated/sklearn.feature_selection.RFE.html#sklearn.feature_selection.RFE)."
   ]
  },
  {
   "cell_type": "markdown",
   "metadata": {},
   "source": [
    "In this example, you can see that the boundaries of the image do little to predict the target."
   ]
  },
  {
   "cell_type": "code",
   "execution_count": 2,
   "metadata": {},
   "outputs": [
    {
     "data": {
      "image/png": "[encoded data removed]",
      "text/plain": [
       "<matplotlib.figure.Figure at 0x7fc6e120bd68>"
      ]
     },
     "metadata": {},
     "output_type": "display_data"
    }
   ],
   "source": [
    "%matplotlib inline\n",
    "\n",
    "from sklearn.svm import SVC\n",
    "from sklearn.datasets import load_digits\n",
    "from sklearn.feature_selection import RFE\n",
    "import matplotlib.pyplot as plt\n",
    "\n",
    "# Load the digits dataset\n",
    "digits = load_digits()\n",
    "X = digits.images.reshape((len(digits.images), -1))\n",
    "y = digits.target\n",
    "\n",
    "# Create the RFE object and rank each pixel\n",
    "svc = SVC(kernel=\"linear\", C=1)\n",
    "rfe = RFE(estimator=svc, n_features_to_select=1, step=1)\n",
    "rfe.fit(X, y)\n",
    "ranking = rfe.ranking_.reshape(digits.images[0].shape)\n",
    "\n",
    "# Plot pixel ranking\n",
    "fig, ax = plt.subplots()\n",
    "\n",
    "mat = ax.matshow(ranking, cmap=plt.cm.Blues)\n",
    "fig.colorbar(mat)\n",
    "ax.set_title(\"Ranking of pixels with RFE\")\n",
    "fig.tight_layout()"
   ]
  },
  {
   "cell_type": "markdown",
   "metadata": {},
   "source": [
    "## SelectFromModel "
   ]
  },
  {
   "cell_type": "markdown",
   "metadata": {},
   "source": [
    "[`SelectFromModel`](http://scikit-learn.org/stable/modules/generated/sklearn.feature_selection.SelectFromModel.html#sklearn.feature_selection.SelectFromModel) is a meta-transformer that will select features from any estimator that has a `coef_` attribute or a `feature_importances_` attribute.  "
   ]
  },
  {
   "cell_type": "markdown",
   "metadata": {},
   "source": [
    "### L1-based Feature Selection \n",
    "\n",
    "This works naturally with the lasso by selecting out by default features whose coefficients are zero."
   ]
  },
  {
   "cell_type": "code",
   "execution_count": 3,
   "metadata": {},
   "outputs": [
    {
     "data": {
      "text/plain": [
       "(150, 4)"
      ]
     },
     "execution_count": 3,
     "metadata": {},
     "output_type": "execute_result"
    }
   ],
   "source": [
    "from sklearn.svm import LinearSVC\n",
    "from sklearn.datasets import load_iris\n",
    "from sklearn.feature_selection import SelectFromModel\n",
    "iris = load_iris()\n",
    "X, y = iris.data, iris.target\n",
    "X.shape"
   ]
  },
  {
   "cell_type": "code",
   "execution_count": 4,
   "metadata": {},
   "outputs": [
    {
     "data": {
      "text/plain": [
       "(150, 3)"
      ]
     },
     "execution_count": 4,
     "metadata": {},
     "output_type": "execute_result"
    }
   ],
   "source": [
    "lsvc = LinearSVC(C=0.01, penalty=\"l1\", dual=False).fit(X, y)\n",
    "model = SelectFromModel(lsvc, prefit=True)\n",
    "X_new = model.transform(X)\n",
    "X_new.shape"
   ]
  },
  {
   "cell_type": "markdown",
   "metadata": {},
   "source": [
    "### Randomized Sparse Models via Stability Selection"
   ]
  },
  {
   "cell_type": "markdown",
   "metadata": {},
   "source": [
    "The lasso is fantastic. That said, the lasso has certain known limitations. Given a group of highly correlated variables, the lasso will select one at random. Even under less strong correlation the conditions under which \"good\" variables are selected can leave some things to be desired.\n",
    "\n",
    "Scikit-learn provides a method known as stability selection in the literature to attempt get around these issues. In this method a subsample of the data is fit and a random subset of the features have their penalty scaled.\n",
    "\n",
    "For some subset of the data $I$ this modified lasso is\n",
    "\n",
    "$$\\hat{\\beta}_I=\\arg\\underset{w}{\\min}\\frac{1}{n_I}\\sum_{i\\in I}(y_i - x_i^\\prime \\beta)^2 + \\alpha\\sum_{i=1}^p \\frac{|\\beta_j|}{s_j}$$\n",
    "\n",
    "where $s_j \\in {s, 1}$ are independent draws from Bernoulli trials and $s \\in (0, 1)$ is a scaling factor. Across a number of runs, you can count the number of times features were selected.\n",
    "\n",
    "This is implemented in [`sklearn.linear_model.RandomizedLasso`](http://scikit-learn.org/stable/modules/generated/sklearn.linear_model.RandomizedLasso.html#sklearn.linear_model.RandomizedLasso) and [`sklearn.linear_model.RandomizedLogisticRegression`](http://scikit-learn.org/stable/modules/generated/sklearn.linear_model.RandomizedLogisticRegression.html#sklearn.linear_model.RandomizedLogisticRegression)."
   ]
  },
  {
   "cell_type": "markdown",
   "metadata": {},
   "source": [
    "### Tree-Based Feature Selection "
   ]
  },
  {
   "cell_type": "markdown",
   "metadata": {},
   "source": [
    "All of the tree-based estimators can be used to compute feature importances. When paired with `SelectFromModel`, you can use the tree-based models to eliminate features as well. "
   ]
  },
  {
   "cell_type": "code",
   "execution_count": 5,
   "metadata": {
    "collapsed": true
   },
   "outputs": [],
   "source": [
    "import numpy as np\n",
    "import matplotlib.pyplot as plt\n",
    "\n",
    "from sklearn.datasets import make_classification\n",
    "from sklearn.ensemble import ExtraTreesClassifier\n",
    "\n",
    "# Build a classification task using 3 informative features\n",
    "X, y = make_classification(n_samples=1000,\n",
    "                           n_features=15,\n",
    "                           n_informative=3,\n",
    "                           n_redundant=0,\n",
    "                           n_repeated=0,\n",
    "                           n_classes=2,\n",
    "                           random_state=0,\n",
    "                           shuffle=False)"
   ]
  },
  {
   "cell_type": "code",
   "execution_count": 6,
   "metadata": {
    "collapsed": true
   },
   "outputs": [],
   "source": [
    "# Build a forest and compute the feature importances\n",
    "forest = ExtraTreesClassifier(n_estimators=250,\n",
    "                              random_state=0)\n",
    "\n",
    "forest.fit(X, y)\n",
    "\n",
    "importances = forest.feature_importances_"
   ]
  },
  {
   "cell_type": "code",
   "execution_count": 7,
   "metadata": {
    "collapsed": true
   },
   "outputs": [],
   "source": [
    "std = np.std([tree.feature_importances_ for tree in forest.estimators_],\n",
    "             axis=0)\n",
    "indices = np.argsort(importances)[::-1]"
   ]
  },
  {
   "cell_type": "code",
   "execution_count": 8,
   "metadata": {},
   "outputs": [
    {
     "data": {
      "image/png": "[encoded data removed]",
      "text/plain": [
       "<matplotlib.figure.Figure at 0x7fc6a794e128>"
      ]
     },
     "metadata": {},
     "output_type": "display_data"
    }
   ],
   "source": [
    "fig, ax = plt.subplots()\n",
    "ax.set_title(\"Feature importances\")\n",
    "ax.bar(range(X.shape[1]), importances[indices],\n",
    "       color=\"r\", yerr=std[indices], align=\"center\")\n",
    "ax.set_xticks(range(X.shape[1]))\n",
    "ax.set_xticklabels(indices)\n",
    "ax.set_xlim([-1, X.shape[1]]);"
   ]
  }
 ],
 "metadata": {
  "kernelspec": {
   "display_name": "Python 3",
   "language": "python",
   "name": "python3"
  },
  "language_info": {
   "codemirror_mode": {
    "name": "ipython",
    "version": 3
   },
   "file_extension": ".py",
   "mimetype": "text/x-python",
   "name": "python",
   "nbconvert_exporter": "python",
   "pygments_lexer": "ipython3",
   "version": "3.6.1"
  }
 },
 "nbformat": 4,
 "nbformat_minor": 2
}
